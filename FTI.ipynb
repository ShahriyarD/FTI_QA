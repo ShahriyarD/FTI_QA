{
  "nbformat": 4,
  "nbformat_minor": 0,
  "metadata": {
    "colab": {
      "provenance": [],
      "toc_visible": true
    },
    "kernelspec": {
      "name": "python3",
      "display_name": "Python 3"
    },
    "language_info": {
      "name": "python"
    }
  },
  "cells": [
    {
      "cell_type": "code",
      "execution_count": 26,
      "metadata": {
        "colab": {
          "base_uri": "https://localhost:8080/"
        },
        "id": "Fw3IF9QkoaJh",
        "outputId": "3ccec8cf-4c04-4376-cbc9-a944e3abf404"
      },
      "outputs": [
        {
          "output_type": "stream",
          "name": "stdout",
          "text": [
            "0 0.26656628 0.2035265 1.3097374\n",
            "1 0.25060177 0.19884491 1.2602875\n",
            "2 0.27669764 0.3078022 0.8989463\n",
            "3 0.19106483 0.16078043 1.1883588\n",
            "4 0.20957994 0.16467333 1.2727013\n",
            "5 0.21501446 0.17434835 1.2332463\n",
            "6 0.30581808 0.26413393 1.1578145\n",
            "7 0.19827557 0.11917782 1.6636952\n",
            "8 0.16293287 0.10158157 1.6039609\n",
            "9 0.018552303 0.001057148 17.54939\n"
          ]
        }
      ],
      "source": [
        "# Ferromagnetic Transverse-Interaction QA vs. covenvtional Transverse-Field QA\n",
        "# Exact minimum-gap benchmark, L = 9, 10 disorder seeds\n",
        "# Shahriyar Dadgar — June 2025\n",
        "#\n",
        "# ────────────────────────────────────────────────────────────────────────────\n",
        "# One script, no external files:\n",
        "#   • Builds problem Hamiltonian H_z (Random spin glass - SK model: Gaussian J_ij and longitudinal fields)\n",
        "#   • Builds transverse-field driver H_x (–Σ_i σ_i^x)\n",
        "#   • Builds ferromagnetic transverse-interaction driver H_xx  (–Σ_ij σ_i^x σ_j^x / L)\n",
        "#   • Sweeps anneal parameter s ∈ [0,1] with step dt\n",
        "#   • For each s, computes the lowest two eigenvalues via SciPy eigsh\n",
        "#   • Records the minimum spectral gap for each schedule\n",
        "\n",
        "import os, numpy as np, scipy.sparse as sp, scipy.sparse.linalg as spla\n",
        "from multiprocessing import Pool, cpu_count\n",
        "os.environ[\"OMP_NUM_THREADS\"] = \"1\"\n",
        "\n",
        "def get_spin(state, position):\n",
        "    '''Returns the spin value at the specified position.'''\n",
        "    return 1 if (state >> position) & 1 == 0 else -1\n",
        "\n",
        "#problem hamiltonian:\n",
        "def H_z(L, seed):\n",
        "    np.random.seed(seed)\n",
        "    mean, var = 0, 1/L\n",
        "    std = np.sqrt(var)\n",
        "    dim = 2**L\n",
        "    H = sp.lil_matrix((dim, dim), dtype=np.float32)\n",
        "    for state in range(dim):\n",
        "        diag = 0\n",
        "        for i in range(L):\n",
        "            for j in range(i+1, L):\n",
        "                diag += np.random.normal(mean, std) * get_spin(state, i) * get_spin(state, j)\n",
        "        diff = bin(state).count('1') - (L - bin(state).count('1'))\n",
        "        diag += np.random.normal(mean, std) * diff\n",
        "        H[state, state] = diag\n",
        "    return H.tocsc()\n",
        "\n",
        "#transverse field:\n",
        "def H_x(L):\n",
        "    dim = 2**L\n",
        "    H = sp.lil_matrix((dim, dim), dtype=np.float32)\n",
        "    for state in range(dim):\n",
        "        for site in range(L):\n",
        "            H[state, state ^ (1 << site)] = -1\n",
        "    return H.tocsc()\n",
        "\n",
        "#ferromagnetic transverse interaction (FTI):\n",
        "def H_xx(L):\n",
        "    dim = 2**L\n",
        "    H = sp.lil_matrix((dim, dim), dtype=np.float32)\n",
        "    for state in range(dim):\n",
        "        for i in range(L):\n",
        "            for j in range(L):\n",
        "                state_prime = state ^ (1 << i)\n",
        "                state_dprime = state_prime ^ (1 << j)\n",
        "                H[state, state_dprime] -= 1/L\n",
        "    return H.tocsc()\n",
        "\n",
        "def time_step_multiprocessing(params):\n",
        "    s, r = params\n",
        "    lmbd = s**r\n",
        "    #FTI schedule\n",
        "    H = s*lmbd*Hz + s*(1-lmbd)*Hxx + (1-s)*Hx\n",
        "    ev, vec = spla.eigsh(H, k = 2, which='SA')\n",
        "    gap_FTI = ev[1] - ev[0]\n",
        "    #conventional quantum annealing schedule:\n",
        "    H = s*Hz + (1-s)*Hx\n",
        "    ev, vec = spla.eigsh(H, k = 2, which='SA')\n",
        "    gap_QA = ev[1] - ev[0]\n",
        "    return gap_FTI, gap_QA\n",
        "\n",
        "\n",
        "if __name__ == '__main__':\n",
        "    L = 9           # number of spins\n",
        "    r = 2           # λ(s) exponent\n",
        "    dt = 0.005      # annealing step\n",
        "    sample_size = 10    # disorder seeds\n",
        "\n",
        "    Hx = H_x(L)\n",
        "    Hxx = H_xx(L)\n",
        "\n",
        "    SEEDS = list(range(sample_size))\n",
        "    for seed in SEEDS:\n",
        "        Hz = H_z(L, seed)\n",
        "        s_values =np.linspace(0, 1 , int(1/dt))\n",
        "        params = [(float(s), r)\n",
        "                    for s in s_values]\n",
        "        # Use a pool of worker processes to handle time steps in parallel\n",
        "        with Pool(processes=cpu_count()) as pool:\n",
        "            results = pool.map(time_step_multiprocessing, params)\n",
        "\n",
        "        FTI_results, QA_results = zip(*results)\n",
        "        FTI_results = np.array(FTI_results)\n",
        "        QA_results = np.array(QA_results)\n",
        "        print(seed, FTI_results.min(), QA_results.min(), FTI_results.min()/QA_results.min())"
      ]
    },
    {
      "cell_type": "markdown",
      "source": [
        "#### Summary for L = 7 – 17 (with 100 disorder realizations/hard problems, annealing step set to 0.001 and r equals to 2.)\n",
        "\n",
        "\n",
        "\n",
        "| L | Fraction of instances with min_ΔFTI > min_ΔQA | mean ratio of minimum gaps for those instances |\n",
        "|---|------------------|---------------------|\n",
        "|  7 |         0.88 |         1.66 |\n",
        "|  8 |         0.85 |         2.69 |\n",
        "|  9 |         0.80 |         2.57 |\n",
        "| 10 |         0.82 |         3.44 |\n",
        "| 11 |         0.82 |         4.09 |\n",
        "| 12 |         0.82 |         2.49 |\n",
        "| 13 |         0.84 |         2.47 |\n",
        "| 14 |         0.83 |         5.73 |\n",
        "| 15 |         0.80 |         5.69 |\n",
        "| 16 |         0.86 |         4.58 |\n",
        "| 17 |         0.73 |         5.80 |\n",
        "\n",
        "*(Values loaded offline and pasted for quick viewing.)*\n",
        "\n",
        "Important caveats:\n",
        "- Even though the mean ratio seems to hold the advantage of FTI for the large Ls, the medians of the ratios remain only slightly above one (about 10 percent).\n",
        "- The minimum gap for FTI seems to be drastically decreasing with L (most likely exponentially which is the major generic bottle neck for quantum annealing algorithms).\n",
        "\n",
        "Notice that these results are based on standard SK model, as opposed to the results in Phys. Rev. B 95, 184416 (2017) where they set the variance of the Gaussian distribution of the random values constructing the problem Hamiltonian to 1 (not 1/L)."
      ],
      "metadata": {
        "id": "GLiakamvthV-"
      }
    },
    {
      "cell_type": "code",
      "source": [],
      "metadata": {
        "id": "Aq-LHQNomAmT"
      },
      "execution_count": null,
      "outputs": []
    }
  ]
}
